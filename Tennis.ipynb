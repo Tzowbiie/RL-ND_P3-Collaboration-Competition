{
 "cells": [
  {
   "cell_type": "markdown",
   "metadata": {},
   "source": [
    "# Collaboration and Competition\n",
    "\n",
    "---\n",
    "\n",
    "In this notebook, you will learn how to use the Unity ML-Agents environment for the third project of the [Deep Reinforcement Learning Nanodegree](https://www.udacity.com/course/deep-reinforcement-learning-nanodegree--nd893) program.\n",
    "\n",
    "### 1. Start the Environment\n",
    "\n",
    "We begin by importing the necessary packages.  If the code cell below returns an error, please revisit the project instructions to double-check that you have installed [Unity ML-Agents](https://github.com/Unity-Technologies/ml-agents/blob/master/docs/Installation.md) and [NumPy](http://www.numpy.org/)."
   ]
  },
  {
   "cell_type": "code",
   "execution_count": 1,
   "metadata": {},
   "outputs": [],
   "source": [
    "import matplotlib.pyplot as plt\n",
    "import numpy as np\n",
    "import random\n",
    "import time\n",
    "import torch\n",
    "from unityagents import UnityEnvironment\n",
    "from maddpg_agent import Agent\n",
    "from collections import deque"
   ]
  },
  {
   "cell_type": "markdown",
   "metadata": {},
   "source": [
    "Next, we will start the environment!  **_Before running the code cell below_**, change the `file_name` parameter to match the location of the Unity environment that you downloaded.\n",
    "\n",
    "- **Mac**: `\"path/to/Tennis.app\"`\n",
    "- **Windows** (x86): `\"path/to/Tennis_Windows_x86/Tennis.exe\"`\n",
    "- **Windows** (x86_64): `\"path/to/Tennis_Windows_x86_64/Tennis.exe\"`\n",
    "- **Linux** (x86): `\"path/to/Tennis_Linux/Tennis.x86\"`\n",
    "- **Linux** (x86_64): `\"path/to/Tennis_Linux/Tennis.x86_64\"`\n",
    "- **Linux** (x86, headless): `\"path/to/Tennis_Linux_NoVis/Tennis.x86\"`\n",
    "- **Linux** (x86_64, headless): `\"path/to/Tennis_Linux_NoVis/Tennis.x86_64\"`\n",
    "\n",
    "For instance, if you are using a Mac, then you downloaded `Tennis.app`.  If this file is in the same folder as the notebook, then the line below should appear as follows:\n",
    "```\n",
    "env = UnityEnvironment(file_name=\"Tennis.app\")\n",
    "```"
   ]
  },
  {
   "cell_type": "code",
   "execution_count": 2,
   "metadata": {},
   "outputs": [
    {
     "name": "stderr",
     "output_type": "stream",
     "text": [
      "INFO:unityagents:\n",
      "'Academy' started successfully!\n",
      "Unity Academy name: Academy\n",
      "        Number of Brains: 1\n",
      "        Number of External Brains : 1\n",
      "        Lesson number : 0\n",
      "        Reset Parameters :\n",
      "\t\t\n",
      "Unity brain name: TennisBrain\n",
      "        Number of Visual Observations (per agent): 0\n",
      "        Vector Observation space type: continuous\n",
      "        Vector Observation space size (per agent): 8\n",
      "        Number of stacked Vector Observation: 3\n",
      "        Vector Action space type: continuous\n",
      "        Vector Action space size (per agent): 2\n",
      "        Vector Action descriptions: , \n"
     ]
    }
   ],
   "source": [
    "env = UnityEnvironment(file_name=\"Tennis_Windows_x86_64/Tennis.exe\")"
   ]
  },
  {
   "cell_type": "markdown",
   "metadata": {},
   "source": [
    "Environments contain **_brains_** which are responsible for deciding the actions of their associated agents. Here we check for the first brain available, and set it as the default brain we will be controlling from Python."
   ]
  },
  {
   "cell_type": "code",
   "execution_count": 3,
   "metadata": {},
   "outputs": [],
   "source": [
    "# get the default brain\n",
    "brain_name = env.brain_names[0]\n",
    "brain = env.brains[brain_name]"
   ]
  },
  {
   "cell_type": "markdown",
   "metadata": {},
   "source": [
    "### 2. Examine the State and Action Spaces\n",
    "\n",
    "In this environment, two agents control rackets to bounce a ball over a net. If an agent hits the ball over the net, it receives a reward of +0.1.  If an agent lets a ball hit the ground or hits the ball out of bounds, it receives a reward of -0.01.  Thus, the goal of each agent is to keep the ball in play.\n",
    "\n",
    "The observation space consists of 8 variables corresponding to the position and velocity of the ball and racket. Two continuous actions are available, corresponding to movement toward (or away from) the net, and jumping. \n",
    "\n",
    "Run the code cell below to print some information about the environment."
   ]
  },
  {
   "cell_type": "code",
   "execution_count": 4,
   "metadata": {},
   "outputs": [
    {
     "name": "stdout",
     "output_type": "stream",
     "text": [
      "Number of agents: 2\n",
      "Size of each action: 2\n"
     ]
    }
   ],
   "source": [
    "# reset the environment\n",
    "env_info = env.reset(train_mode=True)[brain_name]\n",
    "\n",
    "# number of agents \n",
    "num_agents = len(env_info.agents)\n",
    "print('Number of agents:', num_agents)\n",
    "\n",
    "# size of each action\n",
    "action_size = brain.vector_action_space_size\n",
    "print('Size of each action:', action_size)\n"
   ]
  },
  {
   "cell_type": "code",
   "execution_count": 5,
   "metadata": {},
   "outputs": [
    {
     "name": "stdout",
     "output_type": "stream",
     "text": [
      "There are 2 agents. Each observes a state with length: 24\n",
      "The state for the first agent looks like: [ 0.          0.          0.          0.          0.          0.\n",
      "  0.          0.          0.          0.          0.          0.\n",
      "  0.          0.          0.          0.         -6.65278625 -1.5\n",
      " -0.          0.          6.83172083  6.         -0.          0.        ]\n"
     ]
    }
   ],
   "source": [
    "# examine the state space \n",
    "states = env_info.vector_observations\n",
    "state_size = states.shape[1]\n",
    "print('There are {} agents. Each observes a state with length: {}'.format(states.shape[0], state_size))\n",
    "print('The state for the first agent looks like:', states[0])"
   ]
  },
  {
   "cell_type": "markdown",
   "metadata": {},
   "source": [
    "### 3. Take Random Actions in the Environment\n",
    "\n",
    "In the next code cell, you will learn how to use the Python API to control the agents and receive feedback from the environment.\n",
    "\n",
    "Once this cell is executed, you will watch the agents' performance, if they select actions at random with each time step.  A window should pop up that allows you to observe the agents.\n",
    "\n",
    "Of course, as part of the project, you'll have to change the code so that the agents are able to use their experiences to gradually choose better actions when interacting with the environment!"
   ]
  },
  {
   "cell_type": "code",
   "execution_count": null,
   "metadata": {},
   "outputs": [
    {
     "name": "stdout",
     "output_type": "stream",
     "text": [
      "Score (max over agents) from episode 1: 0.0\n"
     ]
    }
   ],
   "source": [
    "for i in range(1, 6):                                      # play game for 5 episodes\n",
    "    env_info = env.reset(train_mode=False)[brain_name]     # reset the environment    \n",
    "    states = env_info.vector_observations                  # get the current state (for each agent)\n",
    "    scores = np.zeros(num_agents)                          # initialize the score (for each agent)\n",
    "    while True:\n",
    "        actions = np.random.randn(num_agents, action_size) # select an action (for each agent)\n",
    "        actions = np.clip(actions, -1, 1)                  # all actions between -1 and 1\n",
    "        env_info = env.step(actions)[brain_name]           # send all actions to tne environment\n",
    "        next_states = env_info.vector_observations         # get next state (for each agent)\n",
    "        rewards = env_info.rewards                         # get reward (for each agent)\n",
    "        dones = env_info.local_done                        # see if episode finished\n",
    "        scores += env_info.rewards                         # update the score (for each agent)\n",
    "        states = next_states                               # roll over states to next time step\n",
    "        if np.any(dones):                                  # exit loop if episode finished\n",
    "            break\n",
    "    print('Score (max over agents) from episode {}: {}'.format(i, np.max(scores)))"
   ]
  },
  {
   "cell_type": "markdown",
   "metadata": {},
   "source": [
    "When finished, you can close the environment."
   ]
  },
  {
   "cell_type": "code",
   "execution_count": null,
   "metadata": {},
   "outputs": [],
   "source": [
    "env.close()"
   ]
  },
  {
   "cell_type": "markdown",
   "metadata": {},
   "source": [
    "### 4. It's Your Turn!\n",
    "\n",
    "Now it's your turn to train your own agent to solve the environment!  When training the environment, set `train_mode=True`, so that the line for resetting the environment looks like the following:\n",
    "```python\n",
    "env_info = env.reset(train_mode=True)[brain_name]\n",
    "```"
   ]
  },
  {
   "cell_type": "code",
   "execution_count": 6,
   "metadata": {},
   "outputs": [],
   "source": [
    "def maddpg(n_episodes=500, max_t=1000, solved_score=0.5, consec_episodes=100, print_every=10, save_every=10, train_mode=True,\n",
    "         continue_training = False):\n",
    "    \"\"\"Multi Agent Deep Deterministic Policy Gradient (MADDPG)\n",
    "    \n",
    "    Params\n",
    "    ======\n",
    "        n_episodes (int)      : maximum number of training episodes\n",
    "        max_t (int)           : maximum number of timesteps per episode\n",
    "        train_mode (bool)     : if 'True' set environment to training mode\n",
    "        solved_score (float)  : min avg score over consecutive episodes\n",
    "        consec_episodes (int) : number of consecutive episodes used to calculate score\n",
    "        print_every (int)     : interval to display results\n",
    "        actor_path (str)      : directory to store actor network weights\n",
    "        critic_path (str)     : directory to store critic network weights\n",
    "\n",
    "    \"\"\"\n",
    "    scores_window = deque(maxlen=consec_episodes)\n",
    "    scores_all = []\n",
    "    moving_average = []\n",
    "    best_score = -np.inf\n",
    "    best_episode = 0\n",
    "    already_solved = False  \n",
    "    \n",
    "    episodes_counter = 1\n",
    "    # to continue Training, load the actor and critic checkpoints\n",
    "    if continue_training:\n",
    "        checkpoint_actor = torch.load('actor_temp.pt')\n",
    "        checkpoint_critic = torch.load('critic_temp.pt') \n",
    "        #update i_episode for correct counting\n",
    "        episodes_counter = checkpoint_actor['epoch']\n",
    "        #load networks to continue training\n",
    "        agent.actor_local.load_state_dict(checkpoint_actor['local_model_state_dict'])\n",
    "        agent.actor_target.load_state_dict(checkpoint_actor['target_model_state_dict'])\n",
    "        agent.actor_optimizer.load_state_dict(checkpoint_actor['optimizer_state_dict'])\n",
    "        agent.actor_loss = checkpoint_actor['loss']\n",
    "        mean_scores = checkpoint_actor['mean']\n",
    "        moving_avgs = checkpoint_actor['moving_avgs']\n",
    "        #load networks to continue training\n",
    "        agent.critic_local.load_state_dict(checkpoint_critic['local_model_state_dict'])\n",
    "        agent.critic_target.load_state_dict(checkpoint_critic['target_model_state_dict'])\n",
    "        agent.critic_optimizer.load_state_dict(checkpoint_critic['optimizer_state_dict'])\n",
    "        agent.critic_loss = checkpoint_critic['loss']\n",
    "        \n",
    "    \n",
    "    for i_episode in range(episodes_counter, n_episodes+1):\n",
    "        \n",
    "        #print(episodes_counter)\n",
    "        env_info = env.reset(train_mode=train_mode)[brain_name] # reset environment\n",
    "        #states = env_info.vector_observations                   # get current state for each agent \n",
    "        states = np.reshape(env_info.vector_observations, (1,48)) # get states and combine them\n",
    "        agent_0.reset()\n",
    "        agent_1.reset()\n",
    "        scores = np.zeros(num_agents)                           # initialize score for each agent\n",
    "        start_time = time.time()\n",
    "        for t in range(max_t):\n",
    "            actions = get_actions(states, add_noise=True)                  # select an action\n",
    "            env_info = env.step(actions)[brain_name]            # send actions to environment\n",
    "            next_states = np.reshape(env_info.vector_observations, (1, 48)) # combine the next states ob agents\n",
    "            rewards = env_info.rewards                          # get reward\n",
    "            done = env_info.local_done                          # see if episode has finished\n",
    "            agent_0.step(states, actions, rewards[0], next_states, done, 0) # agent 1 learns\n",
    "            agent_1.step(states, actions, rewards[1], next_states, done, 1) # agent 2 learns\n",
    "            scores += np.max(rewards)                          # update the score for each agent\n",
    "            states = next_states                               # roll over states to next time step        \n",
    "            if np.any(done):                                   # exit loop when episode ends\n",
    "                break\n",
    "\n",
    "        duration = time.time() - start_time\n",
    "        ep_best_score = np.max(scores)\n",
    "        scores_window.append(ep_best_score)\n",
    "        scores_all.append(ep_best_score)\n",
    "        moving_average.append(np.mean(scores_window))\n",
    "\n",
    "        # save best score                        \n",
    "        if ep_best_score > best_score:\n",
    "            best_score = ep_best_score\n",
    "            best_episode = i_episode\n",
    "        \n",
    "        # print results\n",
    "        if i_episode % print_every == 0:\n",
    "            print('Episodes {:0>4d}-{:0>4d}\\tMax Reward: {:.3f}\\tMoving Average: {:.3f}'.format(\n",
    "                i_episode-print_every, i_episode, np.max(scores_all[-print_every:]), moving_average[-1]))\n",
    "\n",
    "        # determine if environment is solved and keep best performing models\n",
    "        if moving_average[-1] >= solved_score:\n",
    "            if not already_solved:\n",
    "                print('<-- Environment solved in {:d} episodes! \\\n",
    "                \\n<-- Moving Average: {:.3f} over past {:d} episodes'.format(\n",
    "                    i_episode-consec_episodes, moving_average[-1], consec_episodes))\n",
    "                already_solved = True\n",
    "                # save weights\n",
    "                torch.save(agent_0.actor_local.state_dict(), 'models/checkpoint_actor_0.pth')\n",
    "                torch.save(agent_0.critic_local.state_dict(), 'models/checkpoint_critic_0.pth')\n",
    "                torch.save(agent_1.actor_local.state_dict(), 'models/checkpoint_actor_1.pth')\n",
    "                torch.save(agent_1.critic_local.state_dict(), 'models/checkpoint_critic_1.pth')\n",
    "            elif ep_best_score >= best_score:\n",
    "                print('<-- Best episode so far!\\\n",
    "                \\nEpisode {:0>4d}\\tMax Reward: {:.3f}\\tMoving Average: {:.3f}'.format(\n",
    "                i_episode, ep_best_score, moving_average[-1]))\n",
    "                # save weights\n",
    "                torch.save(agent_0.actor_local.state_dict(), 'models/checkpoint_actor_0.pth')\n",
    "                torch.save(agent_0.critic_local.state_dict(), 'models/checkpoint_critic_0.pth')\n",
    "                torch.save(agent_1.actor_local.state_dict(), 'models/checkpoint_actor_1.pth')\n",
    "                torch.save(agent_1.critic_local.state_dict(), 'models/checkpoint_critic_1.pth')\n",
    "            elif (i_episode-best_episode) >= 200:\n",
    "                # stop training if model stops converging\n",
    "                print('<-- Training stopped. Best score not matched or exceeded for 200 episodes')\n",
    "                break\n",
    "            else:\n",
    "                continue\n",
    "        '''        \n",
    "        if i_episode % print_every == 0:\n",
    "            print('\\rEpisode {} ({} sec)  -- \\tMin: {:.1f}\\tMax: {:.1f}\\tMean: {:.1f}\\tMov. Avg: {:.1f}'.format(\\\n",
    "                  i_episode, round(duration), min_scores[-1], max_scores[-1], mean_scores[-1], moving_avgs[-1]))\n",
    "        if i_episode % save_every == 0:    \n",
    "            #saving network parameters in case of notebook crash\n",
    "            print('Start')\n",
    "            torch.save({\n",
    "            'epoch': i_episode,\n",
    "            'local_model_state_dict': agent.actor_local.state_dict(),\n",
    "            'target_model_state_dict': agent.actor_target.state_dict(),    \n",
    "            'optimizer_state_dict': agent.actor_optimizer.state_dict(),\n",
    "            'loss': agent.actor_loss,\n",
    "            'mean': mean_scores,\n",
    "            'moving_avgs': moving_avgs\n",
    "            }, 'actor_temp.pt')\n",
    "            \n",
    "            torch.save({\n",
    "            'epoch': i_episode,\n",
    "            'local_model_state_dict': agent.critic_local.state_dict(),\n",
    "            'target_model_state_dict': agent.critic_target.state_dict(),    \n",
    "            'optimizer_state_dict': agent.critic_optimizer.state_dict(),\n",
    "            'loss': agent.critic_loss,\n",
    "            }, 'critic_temp.pt')\n",
    "            print('Network parameters saved')\n",
    "        if train_mode and mean_scores[-1] > best_score:\n",
    "            torch.save(agent.actor_local.state_dict(), actor_path)\n",
    "            torch.save(agent.critic_local.state_dict(), critic_path)\n",
    "                  \n",
    "        if moving_avgs[-1] >= solved_score and i_episode >= consec_episodes:\n",
    "            print('\\nEnvironment SOLVED in {} episodes!\\tMoving Average ={:.1f} over last {} episodes'.format(\\\n",
    "                                    i_episode-consec_episodes, moving_avgs[-1], consec_episodes))            \n",
    "            if train_mode:\n",
    "                torch.save(agent.actor_local.state_dict(), actor_path)\n",
    "                torch.save(agent.critic_local.state_dict(), critic_path)  \n",
    "            break\n",
    "          '''  \n",
    "    return scores_all, moving_average"
   ]
  },
  {
   "cell_type": "code",
   "execution_count": 7,
   "metadata": {},
   "outputs": [],
   "source": [
    "def get_actions(states, add_noise=True):\n",
    "    '''gets actions for both agents and combines them into one array'''\n",
    "    action_0 = agent_0.act(states, add_noise)    # agent 0 chooses an action\n",
    "    action_1 = agent_1.act(states, add_noise)    # agent 1 chooses an action\n",
    "    return np.concatenate((action_0, action_1), axis=0).flatten()"
   ]
  },
  {
   "cell_type": "code",
   "execution_count": 8,
   "metadata": {},
   "outputs": [],
   "source": [
    "# initialize agents\n",
    "agent_0 = Agent(state_size, action_size, num_agents=1, random_seed=0)\n",
    "agent_1 = Agent(state_size, action_size, num_agents=1, random_seed=0)"
   ]
  },
  {
   "cell_type": "code",
   "execution_count": 9,
   "metadata": {},
   "outputs": [
    {
     "name": "stderr",
     "output_type": "stream",
     "text": [
      "C:\\Users\\Annika\\deeplearning\\maddpg_agent.py:121: UserWarning: Using a target size (torch.Size([128, 2])) that is different to the input size (torch.Size([128, 1])). This will likely lead to incorrect results due to broadcasting. Please ensure they have the same size.\n",
      "  critic_loss = F.mse_loss(Q_expected, Q_targets)\n"
     ]
    },
    {
     "name": "stdout",
     "output_type": "stream",
     "text": [
      "Episodes 0000-0010\tMax Reward: 0.000\tMoving Average: 0.000\n",
      "Episodes 0010-0020\tMax Reward: 0.000\tMoving Average: 0.000\n",
      "Episodes 0020-0030\tMax Reward: 0.100\tMoving Average: 0.003\n",
      "Episodes 0030-0040\tMax Reward: 0.200\tMoving Average: 0.008\n",
      "Episodes 0040-0050\tMax Reward: 0.100\tMoving Average: 0.014\n",
      "Episodes 0050-0060\tMax Reward: 0.100\tMoving Average: 0.017\n",
      "Episodes 0060-0070\tMax Reward: 0.200\tMoving Average: 0.019\n",
      "Episodes 0070-0080\tMax Reward: 0.100\tMoving Average: 0.021\n",
      "Episodes 0080-0090\tMax Reward: 0.100\tMoving Average: 0.022\n",
      "Episodes 0090-0100\tMax Reward: 0.100\tMoving Average: 0.025\n",
      "Episodes 0100-0110\tMax Reward: 0.100\tMoving Average: 0.029\n",
      "Episodes 0110-0120\tMax Reward: 0.100\tMoving Average: 0.037\n",
      "Episodes 0120-0130\tMax Reward: 0.200\tMoving Average: 0.043\n",
      "Episodes 0130-0140\tMax Reward: 0.100\tMoving Average: 0.048\n",
      "Episodes 0140-0150\tMax Reward: 0.100\tMoving Average: 0.045\n",
      "Episodes 0150-0160\tMax Reward: 0.100\tMoving Average: 0.046\n",
      "Episodes 0160-0170\tMax Reward: 0.100\tMoving Average: 0.045\n",
      "Episodes 0170-0180\tMax Reward: 0.100\tMoving Average: 0.047\n",
      "Episodes 0180-0190\tMax Reward: 0.200\tMoving Average: 0.051\n",
      "Episodes 0190-0200\tMax Reward: 0.100\tMoving Average: 0.053\n",
      "Episodes 0200-0210\tMax Reward: 0.100\tMoving Average: 0.053\n",
      "Episodes 0210-0220\tMax Reward: 0.100\tMoving Average: 0.053\n",
      "Episodes 0220-0230\tMax Reward: 0.100\tMoving Average: 0.051\n",
      "Episodes 0230-0240\tMax Reward: 0.100\tMoving Average: 0.049\n",
      "Episodes 0240-0250\tMax Reward: 0.200\tMoving Average: 0.056\n",
      "Episodes 0250-0260\tMax Reward: 0.200\tMoving Average: 0.063\n",
      "Episodes 0260-0270\tMax Reward: 0.100\tMoving Average: 0.063\n",
      "Episodes 0270-0280\tMax Reward: 0.200\tMoving Average: 0.066\n",
      "Episodes 0280-0290\tMax Reward: 0.200\tMoving Average: 0.065\n",
      "Episodes 0290-0300\tMax Reward: 0.100\tMoving Average: 0.060\n",
      "Episodes 0300-0310\tMax Reward: 0.200\tMoving Average: 0.064\n",
      "Episodes 0310-0320\tMax Reward: 0.300\tMoving Average: 0.067\n",
      "Episodes 0320-0330\tMax Reward: 0.200\tMoving Average: 0.072\n",
      "Episodes 0330-0340\tMax Reward: 0.300\tMoving Average: 0.073\n",
      "Episodes 0340-0350\tMax Reward: 0.200\tMoving Average: 0.070\n",
      "Episodes 0350-0360\tMax Reward: 0.100\tMoving Average: 0.063\n",
      "Episodes 0360-0370\tMax Reward: 0.100\tMoving Average: 0.067\n",
      "Episodes 0370-0380\tMax Reward: 0.300\tMoving Average: 0.064\n",
      "Episodes 0380-0390\tMax Reward: 0.400\tMoving Average: 0.068\n",
      "Episodes 0390-0400\tMax Reward: 0.200\tMoving Average: 0.072\n",
      "Episodes 0400-0410\tMax Reward: 0.400\tMoving Average: 0.074\n",
      "Episodes 0410-0420\tMax Reward: 0.300\tMoving Average: 0.070\n",
      "Episodes 0420-0430\tMax Reward: 0.100\tMoving Average: 0.066\n",
      "Episodes 0430-0440\tMax Reward: 0.200\tMoving Average: 0.069\n",
      "Episodes 0440-0450\tMax Reward: 0.400\tMoving Average: 0.081\n",
      "Episodes 0450-0460\tMax Reward: 0.400\tMoving Average: 0.088\n",
      "Episodes 0460-0470\tMax Reward: 0.100\tMoving Average: 0.086\n",
      "Episodes 0470-0480\tMax Reward: 0.300\tMoving Average: 0.091\n",
      "Episodes 0480-0490\tMax Reward: 0.200\tMoving Average: 0.089\n",
      "Episodes 0490-0500\tMax Reward: 0.200\tMoving Average: 0.093\n"
     ]
    }
   ],
   "source": [
    "'''\n",
    "BUFFER_SIZE = int(1e6)  # replay buffer size\n",
    "BATCH_SIZE = 128        # minibatch size\n",
    "LR_ACTOR = 1e-3         # learning rate of the actor\n",
    "LR_CRITIC = 1e-3        # learning rate of the critic\n",
    "WEIGHT_DECAY = 0        # L2 weight decay\n",
    "LEARN_EVERY = 1         # learning timestep interval\n",
    "LEARN_NUM = 5           # number of learning passes\n",
    "GAMMA = 0.99            # discount factor\n",
    "TAU = 8e-3              # for soft update of target parameters\n",
    "OU_SIGMA = 0.2          # Ornstein-Uhlenbeck noise parameter, volatility\n",
    "OU_THETA = 0.15         # Ornstein-Uhlenbeck noise parameter, speed of mean reversion\n",
    "EPS_START = 5.0         # initial value for epsilon in noise decay process in Agent.act()\n",
    "EPS_EP_END = 300        # episode to end the noise decay process\n",
    "EPS_FINAL = 0           # final value for epsilon after decay\n",
    "'''\n",
    "# run the training loop\n",
    "scores, avgs = maddpg()"
   ]
  },
  {
   "cell_type": "code",
   "execution_count": 10,
   "metadata": {},
   "outputs": [
    {
     "data": {
      "image/png": "[encoded data removed]",
      "text/plain": [
       "<Figure size 432x288 with 1 Axes>"
      ]
     },
     "metadata": {
      "needs_background": "light"
     },
     "output_type": "display_data"
    }
   ],
   "source": [
    "# plot the scores\n",
    "fig = plt.figure()\n",
    "ax = fig.add_subplot(111)\n",
    "plt.plot(np.arange(len(scores)), scores, label='MADDPG')\n",
    "plt.plot(np.arange(len(scores)), avgs, c='r', label='moving avg')\n",
    "plt.ylabel('Score')\n",
    "plt.xlabel('Episode #')\n",
    "plt.legend(loc='upper left');\n",
    "plt.show()"
   ]
  },
  {
   "cell_type": "code",
   "execution_count": null,
   "metadata": {},
   "outputs": [],
   "source": []
  }
 ],
 "metadata": {
  "kernelspec": {
   "display_name": "drlnd",
   "language": "python",
   "name": "drlnd"
  },
  "language_info": {
   "codemirror_mode": {
    "name": "ipython",
    "version": 3
   },
   "file_extension": ".py",
   "mimetype": "text/x-python",
   "name": "python",
   "nbconvert_exporter": "python",
   "pygments_lexer": "ipython3",
   "version": "3.7.4"
  }
 },
 "nbformat": 4,
 "nbformat_minor": 4
}
